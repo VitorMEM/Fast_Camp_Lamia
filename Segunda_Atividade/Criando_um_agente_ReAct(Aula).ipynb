{
  "nbformat": 4,
  "nbformat_minor": 0,
  "metadata": {
    "colab": {
      "provenance": []
    },
    "kernelspec": {
      "name": "python3",
      "display_name": "Python 3"
    },
    "language_info": {
      "name": "python"
    }
  },
  "cells": [
    {
      "cell_type": "markdown",
      "source": [
        "**Instalando o GROQ**"
      ],
      "metadata": {
        "id": "O_In26_zgpq0"
      }
    },
    {
      "cell_type": "code",
      "source": [
        "%pip install groq"
      ],
      "metadata": {
        "colab": {
          "base_uri": "https://localhost:8080/"
        },
        "collapsed": true,
        "id": "C51DNLLqgneQ",
        "outputId": "e34b902e-eb7c-499c-eaee-518c04ba7224"
      },
      "execution_count": 2,
      "outputs": [
        {
          "output_type": "stream",
          "name": "stdout",
          "text": [
            "Collecting groq\n",
            "  Downloading groq-0.18.0-py3-none-any.whl.metadata (14 kB)\n",
            "Requirement already satisfied: anyio<5,>=3.5.0 in /usr/local/lib/python3.11/dist-packages (from groq) (3.7.1)\n",
            "Requirement already satisfied: distro<2,>=1.7.0 in /usr/local/lib/python3.11/dist-packages (from groq) (1.9.0)\n",
            "Requirement already satisfied: httpx<1,>=0.23.0 in /usr/local/lib/python3.11/dist-packages (from groq) (0.28.1)\n",
            "Requirement already satisfied: pydantic<3,>=1.9.0 in /usr/local/lib/python3.11/dist-packages (from groq) (2.10.6)\n",
            "Requirement already satisfied: sniffio in /usr/local/lib/python3.11/dist-packages (from groq) (1.3.1)\n",
            "Requirement already satisfied: typing-extensions<5,>=4.10 in /usr/local/lib/python3.11/dist-packages (from groq) (4.12.2)\n",
            "Requirement already satisfied: idna>=2.8 in /usr/local/lib/python3.11/dist-packages (from anyio<5,>=3.5.0->groq) (3.10)\n",
            "Requirement already satisfied: certifi in /usr/local/lib/python3.11/dist-packages (from httpx<1,>=0.23.0->groq) (2025.1.31)\n",
            "Requirement already satisfied: httpcore==1.* in /usr/local/lib/python3.11/dist-packages (from httpx<1,>=0.23.0->groq) (1.0.7)\n",
            "Requirement already satisfied: h11<0.15,>=0.13 in /usr/local/lib/python3.11/dist-packages (from httpcore==1.*->httpx<1,>=0.23.0->groq) (0.14.0)\n",
            "Requirement already satisfied: annotated-types>=0.6.0 in /usr/local/lib/python3.11/dist-packages (from pydantic<3,>=1.9.0->groq) (0.7.0)\n",
            "Requirement already satisfied: pydantic-core==2.27.2 in /usr/local/lib/python3.11/dist-packages (from pydantic<3,>=1.9.0->groq) (2.27.2)\n",
            "Downloading groq-0.18.0-py3-none-any.whl (121 kB)\n",
            "\u001b[2K   \u001b[90m━━━━━━━━━━━━━━━━━━━━━━━━━━━━━━━━━━━━━━━━\u001b[0m \u001b[32m121.9/121.9 kB\u001b[0m \u001b[31m2.6 MB/s\u001b[0m eta \u001b[36m0:00:00\u001b[0m\n",
            "\u001b[?25hInstalling collected packages: groq\n",
            "Successfully installed groq-0.18.0\n"
          ]
        }
      ]
    },
    {
      "cell_type": "markdown",
      "source": [
        "**Definição de uma variavel de ambiente da chave API**\n",
        "\n",
        "No caso com o nome 'GROQ_API_KEY', junto com a chave que foi adiquirida.\n",
        "\n"
      ],
      "metadata": {
        "id": "JHPU1NOvhPul"
      }
    },
    {
      "cell_type": "code",
      "execution_count": 3,
      "metadata": {
        "id": "LyfEK7mnSBNM"
      },
      "outputs": [],
      "source": [
        "import os\n",
        "os.environ['GROQ_API_KEY'] = \"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\""
      ]
    },
    {
      "cell_type": "markdown",
      "source": [
        "**Inicialização do cliente GROQ e teste da chave API**"
      ],
      "metadata": {
        "id": "CQpA8GMPiDwO"
      }
    },
    {
      "cell_type": "code",
      "source": [
        "import os\n",
        "from groq import Groq\n",
        "\n",
        "client = Groq(\n",
        "    api_key=os.environ.get(\"GROQ_API_KEY\"),\n",
        ")\n",
        "\n",
        "#Iniciamos o groq e aplicamos a chave api\n",
        "\n",
        "chat_completion = client.chat.completions.create(\n",
        "    messages=[\n",
        "        {\n",
        "            \"role\": \"user\",\n",
        "            \"content\": \"Explain the importance of fast language models\",\n",
        "        }\n",
        "    ],\n",
        "    model=\"llama-3.3-70b-versatile\",\n",
        ")\n",
        "\n",
        "#Uma mensagem simples para testar se tudo está certo até agora\n",
        "\n",
        "print(chat_completion.choices[0].message.content)"
      ],
      "metadata": {
        "colab": {
          "base_uri": "https://localhost:8080/"
        },
        "id": "VL2HEnpwiYVY",
        "outputId": "4347a507-ba01-42b9-8f54-8bb756a38a63"
      },
      "execution_count": 4,
      "outputs": [
        {
          "output_type": "stream",
          "name": "stdout",
          "text": [
            "Fast language models are crucial in modern natural language processing (NLP) due to their numerous benefits and applications. Here are some key reasons explaining their importance:\n",
            "\n",
            "1. **Efficient Processing**: Fast language models can process and analyze large amounts of text data quickly, making them ideal for real-time applications such as chatbots, virtual assistants, and language translation software.\n",
            "2. **Improved User Experience**: Fast language models enable faster response times, which is essential for providing a seamless and engaging user experience. This is particularly important for applications that require immediate feedback, such as voice assistants or live customer support.\n",
            "3. **Scalability**: Fast language models can handle a large volume of requests and data, making them suitable for large-scale applications such as language translation, sentiment analysis, and text summarization.\n",
            "4. **Reduced Latency**: Fast language models minimize latency, which is critical in applications where timely responses are essential, such as in emergency services, financial transactions, or medical diagnosis.\n",
            "5. **Energy Efficiency**: Fast language models can be more energy-efficient, as they require less computational power and memory to process text data. This is significant for mobile devices, edge computing, and other resource-constrained environments.\n",
            "6. **Real-Time Analytics**: Fast language models enable real-time analytics and insights, allowing businesses to respond quickly to changing market trends, customer sentiment, and other factors that impact their operations.\n",
            "7. **Competitive Advantage**: Organizations that deploy fast language models can gain a competitive advantage by providing faster and more accurate services, improving customer satisfaction, and reducing operational costs.\n",
            "8. **Enabling Edge AI**: Fast language models are essential for edge AI applications, where AI models need to run on devices with limited computational resources, such as smart home devices, autonomous vehicles, or wearables.\n",
            "9. **Supporting Multimodal Interaction**: Fast language models are necessary for multimodal interaction, such as voice, text, and gesture recognition, which is becoming increasingly popular in applications like smart homes, virtual reality, and augmented reality.\n",
            "10. **Advancing NLP Research**: Fast language models accelerate NLP research by enabling faster experimentation, prototyping, and testing of new models, algorithms, and techniques, which drives innovation and progress in the field.\n",
            "\n",
            "To achieve fast language models, researchers and developers employ various techniques, such as:\n",
            "\n",
            "* Model pruning and compression\n",
            "* Quantization and knowledge distillation\n",
            "* Parallel processing and distributed computing\n",
            "* Optimized algorithms and data structures\n",
            "* Specialized hardware accelerators, like GPUs and TPUs\n",
            "\n",
            "By leveraging these techniques, fast language models can be developed to support a wide range of applications, from chatbots and virtual assistants to language translation and text analysis, and drive advancements in NLP research and industry.\n"
          ]
        }
      ]
    },
    {
      "cell_type": "markdown",
      "source": [
        "**Criação do Agente em si**"
      ],
      "metadata": {
        "id": "9piWLGkLkLRc"
      }
    },
    {
      "cell_type": "code",
      "source": [
        "class Agent: #Criação da clase agente\n",
        "\n",
        "  def __init__ (self,client,system): #definição de uma função que irá iniciar meu agente\n",
        "    self.client = client #Inicializamos primeiro o cliente\n",
        "    self.system = system #Logo em seguida iremos inicializar o \"System Prompt\"\n",
        "    self.messages = [] #Criação de uma lista de um loop de mensagens que o agente irá incluir em sua memória\n",
        "    if self.system is not None: #Caso exista uma mensagem do sistema nos acidionaremos à nossa lista de mensagens\n",
        "      self.messages.append({\"role\": \"system\", \"content\": self.system})\n",
        "\n",
        "  def __call__ (self, message = \"\"): #Uma chamada que será executada sem que o Agent for executado\n",
        "    if message: #Se o usuária enviar uma mensagem ela será adicionada na lista\n",
        "      self.messages.append({\"role\": \"user\", \"content\": message})\n",
        "    result = self.execute() #Agora executaremos o modulo de linguagem, ou seja o Agent\n",
        "    self.messages.append({\"role\": \"assistant\", \"content\": result}) #Adicionaremos o resultado do \"def execute\" à lista\n",
        "    return result\n",
        "\n",
        "  def execute(self): #Irá rodar todas as mensagens do usuária, junto ao modelo desejado\n",
        "    completion = client.chat.completions.create(\n",
        "        messages= self.messages,\n",
        "        model=\"llama-3.3-70b-versatile\",\n",
        "    )\n",
        "    return completion.choices[0].message.content"
      ],
      "metadata": {
        "id": "KJ4DKR4_kOYq"
      },
      "execution_count": 8,
      "outputs": []
    },
    {
      "cell_type": "markdown",
      "source": [
        "**Crição do Prompt do sistema e das ferramente que ele terá a disposição**"
      ],
      "metadata": {
        "id": "AsN4naXcoBSk"
      }
    },
    {
      "cell_type": "code",
      "source": [
        "#Prompt do sistema\n",
        "system_prompt = \"\"\"\n",
        "You run in a loop of Thought, Action, PAUSE, Observation.\n",
        "At the end of the loop you output an Answer\n",
        "Use Thought to describe your thoughts about the question you have been asked.\n",
        "Use Action to run one of the actions available to you - then return PAUSE.\n",
        "Observation will be the result of running those actions.\n",
        "\n",
        "Your available actions are:\n",
        "\n",
        "calculate:\n",
        "e.g. calculate: 4 * 7 / 3\n",
        "Runs a calculation and returns the number - uses Python so be sure to use floating point syntax if necessary\n",
        "\n",
        "get_planet_mass:\n",
        "e.g. get_planet_mass: Earth\n",
        "returns weight of the planet in kg\n",
        "\n",
        "Example session:\n",
        "\n",
        "Question: What is the mass of Earth times 2?\n",
        "Thought: I need to find the mass of Earth\n",
        "Action: get_planet_mass: Earth\n",
        "PAUSE\n",
        "\n",
        "You will be called again with this:\n",
        "\n",
        "Observation: 5.972e24\n",
        "\n",
        "Thought: I need to multiply this by 2\n",
        "Action: calculate: 5.972e24 * 2\n",
        "PAUSE\n",
        "\n",
        "You will be called again with this:\n",
        "\n",
        "Observation: 1,1944×10e25\n",
        "\n",
        "If you have the answer, output it as the Answer.\n",
        "\n",
        "Answer: The mass of Earth times 2 is 1,1944×10e25.\n",
        "\n",
        "Now it's your turn:\n",
        "\"\"\".strip()\n",
        "\n"
      ],
      "metadata": {
        "id": "EYYw6jrIoGJZ"
      },
      "execution_count": 6,
      "outputs": []
    },
    {
      "cell_type": "code",
      "source": [
        "#Ferramentas\n",
        "#tranfomaremos em um função, as ferramentas que foram mencionadas no prompt (calcular, e pegar a massa dos planetas) , para que assim o Agent possa ter acesso a ela\n",
        "\n",
        "def calculate(operation) -> float:\n",
        "  return eval(operation)\n",
        "\n",
        "def get_planet_mass(planet) -> float:\n",
        "    match planet.lower():\n",
        "        case \"earth\":\n",
        "            return 5.972e24\n",
        "        case \"jupiter\":\n",
        "            return 1.898e27\n",
        "        case \"mars\":\n",
        "            return 6.39e23\n",
        "        case \"mercury\":\n",
        "            return 3.285e23\n",
        "        case \"neptune\":\n",
        "            return 1.024e26\n",
        "        case \"saturn\":\n",
        "            return 5.683e26\n",
        "        case \"uranus\":\n",
        "            return 8.681e25\n",
        "        case \"venus\":\n",
        "            return 4.867e24\n",
        "        case _:\n",
        "            return 0.0\n",
        "\n",
        "\n"
      ],
      "metadata": {
        "id": "8sA8H8mypnOq"
      },
      "execution_count": 7,
      "outputs": []
    },
    {
      "cell_type": "markdown",
      "source": [
        "**Inicialização do Agent**"
      ],
      "metadata": {
        "id": "1D6U9K_Rrdk8"
      }
    },
    {
      "cell_type": "code",
      "source": [
        "#Iremos iniciar com agente com os parâmetros que criamos anteriormente, e também é aqui que damos um nome ao Agent\n",
        "neil_tyson = Agent(client, system_prompt)"
      ],
      "metadata": {
        "id": "e0OlsoDnrcZu"
      },
      "execution_count": 10,
      "outputs": []
    },
    {
      "cell_type": "code",
      "source": [
        "#Nesse momento iremos inserir a nossa duvida (query) pra que o Agent possa solucionar\n",
        "result = neil_tyson(\"What is the mass of Earth times 5?\") #Estamos chamando nosso agente e executando a função __call__\n",
        "print(result) #também veremos qual ação ele irá tomar"
      ],
      "metadata": {
        "colab": {
          "base_uri": "https://localhost:8080/"
        },
        "id": "6umGfZzor8hi",
        "outputId": "8ba4c44b-72b4-45a8-fbf2-7979a4ba6c93"
      },
      "execution_count": 11,
      "outputs": [
        {
          "output_type": "stream",
          "name": "stdout",
          "text": [
            "Thought: To find the mass of Earth times 5, I first need to find the mass of Earth. \n",
            "\n",
            "Action: get_planet_mass: Earth\n",
            "PAUSE\n"
          ]
        }
      ]
    },
    {
      "cell_type": "code",
      "source": [
        "#Iremos ver o que está \"passando pela cabeça\" do nosso agente quando nos fizemos a pergunta\n",
        "neil_tyson.messages"
      ],
      "metadata": {
        "colab": {
          "base_uri": "https://localhost:8080/"
        },
        "id": "HFpAl5VuspCT",
        "outputId": "3474c755-52f2-4f7e-825f-10130e83e75a"
      },
      "execution_count": 12,
      "outputs": [
        {
          "output_type": "execute_result",
          "data": {
            "text/plain": [
              "[{'role': 'system',\n",
              "  'content': \"You run in a loop of Thought, Action, PAUSE, Observation.\\nAt the end of the loop you output an Answer\\nUse Thought to describe your thoughts about the question you have been asked.\\nUse Action to run one of the actions available to you - then return PAUSE.\\nObservation will be the result of running those actions.\\n\\nYour available actions are:\\n\\ncalculate:\\ne.g. calculate: 4 * 7 / 3\\nRuns a calculation and returns the number - uses Python so be sure to use floating point syntax if necessary\\n\\nget_planet_mass:\\ne.g. get_planet_mass: Earth\\nreturns weight of the planet in kg\\n\\nExample session:\\n\\nQuestion: What is the mass of Earth times 2?\\nThought: I need to find the mass of Earth\\nAction: get_planet_mass: Earth\\nPAUSE \\n\\nYou will be called again with this:\\n\\nObservation: 5.972e24\\n\\nThought: I need to multiply this by 2\\nAction: calculate: 5.972e24 * 2\\nPAUSE\\n\\nYou will be called again with this: \\n\\nObservation: 1,1944×10e25\\n\\nIf you have the answer, output it as the Answer.\\n\\nAnswer: The mass of Earth times 2 is 1,1944×10e25.\\n\\nNow it's your turn:\"},\n",
              " {'role': 'user', 'content': 'What is the mass of Earth times 5?'},\n",
              " {'role': 'assistant',\n",
              "  'content': 'Thought: To find the mass of Earth times 5, I first need to find the mass of Earth. \\n\\nAction: get_planet_mass: Earth\\nPAUSE'}]"
            ]
          },
          "metadata": {},
          "execution_count": 12
        }
      ]
    },
    {
      "cell_type": "code",
      "source": [
        "observation = get_planet_mass(\"Earth\")\n",
        "print(f\"Observation: {observation}\")"
      ],
      "metadata": {
        "colab": {
          "base_uri": "https://localhost:8080/"
        },
        "id": "EKgB5Y_ttyar",
        "outputId": "441fb93e-2398-47f0-9cd2-1583de2ee688"
      },
      "execution_count": 14,
      "outputs": [
        {
          "output_type": "stream",
          "name": "stdout",
          "text": [
            "Observation: 5.972e+24\n"
          ]
        }
      ]
    },
    {
      "cell_type": "code",
      "source": [
        "next_prompt = f\"Observation: {observation}\"\n",
        "result = neil_tyson(next_prompt)\n",
        "print(result)"
      ],
      "metadata": {
        "colab": {
          "base_uri": "https://localhost:8080/"
        },
        "id": "jGl3pTHTuR8A",
        "outputId": "cef5ac04-e591-461d-ad83-ee9b1a4929eb"
      },
      "execution_count": 15,
      "outputs": [
        {
          "output_type": "stream",
          "name": "stdout",
          "text": [
            "Thought: Now that I have the mass of Earth, I can multiply it by 5 to get the final result.\n",
            "\n",
            "Action: calculate: 5.972e24 * 5\n",
            "PAUSE\n"
          ]
        }
      ]
    },
    {
      "cell_type": "code",
      "source": [
        "neil_tyson.messages"
      ],
      "metadata": {
        "colab": {
          "base_uri": "https://localhost:8080/"
        },
        "id": "vjUfihiJutyy",
        "outputId": "0f7c118a-b7b3-4078-ecaf-517b03f3daed"
      },
      "execution_count": 16,
      "outputs": [
        {
          "output_type": "execute_result",
          "data": {
            "text/plain": [
              "[{'role': 'system',\n",
              "  'content': \"You run in a loop of Thought, Action, PAUSE, Observation.\\nAt the end of the loop you output an Answer\\nUse Thought to describe your thoughts about the question you have been asked.\\nUse Action to run one of the actions available to you - then return PAUSE.\\nObservation will be the result of running those actions.\\n\\nYour available actions are:\\n\\ncalculate:\\ne.g. calculate: 4 * 7 / 3\\nRuns a calculation and returns the number - uses Python so be sure to use floating point syntax if necessary\\n\\nget_planet_mass:\\ne.g. get_planet_mass: Earth\\nreturns weight of the planet in kg\\n\\nExample session:\\n\\nQuestion: What is the mass of Earth times 2?\\nThought: I need to find the mass of Earth\\nAction: get_planet_mass: Earth\\nPAUSE \\n\\nYou will be called again with this:\\n\\nObservation: 5.972e24\\n\\nThought: I need to multiply this by 2\\nAction: calculate: 5.972e24 * 2\\nPAUSE\\n\\nYou will be called again with this: \\n\\nObservation: 1,1944×10e25\\n\\nIf you have the answer, output it as the Answer.\\n\\nAnswer: The mass of Earth times 2 is 1,1944×10e25.\\n\\nNow it's your turn:\"},\n",
              " {'role': 'user', 'content': 'What is the mass of Earth times 5?'},\n",
              " {'role': 'assistant',\n",
              "  'content': 'Thought: To find the mass of Earth times 5, I first need to find the mass of Earth. \\n\\nAction: get_planet_mass: Earth\\nPAUSE'},\n",
              " {'role': 'assistant', 'content': ''},\n",
              " {'role': 'user', 'content': 'Observation: 5.972e+24'},\n",
              " {'role': 'assistant',\n",
              "  'content': 'Thought: Now that I have the mass of Earth, I can multiply it by 5 to get the final result.\\n\\nAction: calculate: 5.972e24 * 5\\nPAUSE'}]"
            ]
          },
          "metadata": {},
          "execution_count": 16
        }
      ]
    },
    {
      "cell_type": "code",
      "source": [
        "observation = calculate(\"3.285e23 * 5\")\n",
        "print(observation)"
      ],
      "metadata": {
        "colab": {
          "base_uri": "https://localhost:8080/"
        },
        "id": "ZH4quSolu7tl",
        "outputId": "dedf3668-ba07-406a-ff4f-f93d28e3febc"
      },
      "execution_count": 17,
      "outputs": [
        {
          "output_type": "stream",
          "name": "stdout",
          "text": [
            "1.6425e+24\n"
          ]
        }
      ]
    },
    {
      "cell_type": "code",
      "source": [
        "next_prompt = f\"Observation: {observation}\"\n",
        "result = neil_tyson(next_prompt)\n",
        "print(result)"
      ],
      "metadata": {
        "colab": {
          "base_uri": "https://localhost:8080/"
        },
        "id": "oWEAoJ-wvLud",
        "outputId": "c8a5c5b7-288e-4a7f-cda9-ccdd520099d4"
      },
      "execution_count": 18,
      "outputs": [
        {
          "output_type": "stream",
          "name": "stdout",
          "text": [
            "Thought: I have calculated the mass of Earth times 5, so I now have the answer.\n",
            "\n",
            "Answer: The mass of Earth times 5 is 2.986e+25\n"
          ]
        }
      ]
    },
    {
      "cell_type": "code",
      "source": [
        "neil_tyson.messages"
      ],
      "metadata": {
        "colab": {
          "base_uri": "https://localhost:8080/"
        },
        "id": "1jtX2XSCvdVn",
        "outputId": "302929e1-5bcd-40b0-eeb4-347f8f869ce3"
      },
      "execution_count": 19,
      "outputs": [
        {
          "output_type": "execute_result",
          "data": {
            "text/plain": [
              "[{'role': 'system',\n",
              "  'content': \"You run in a loop of Thought, Action, PAUSE, Observation.\\nAt the end of the loop you output an Answer\\nUse Thought to describe your thoughts about the question you have been asked.\\nUse Action to run one of the actions available to you - then return PAUSE.\\nObservation will be the result of running those actions.\\n\\nYour available actions are:\\n\\ncalculate:\\ne.g. calculate: 4 * 7 / 3\\nRuns a calculation and returns the number - uses Python so be sure to use floating point syntax if necessary\\n\\nget_planet_mass:\\ne.g. get_planet_mass: Earth\\nreturns weight of the planet in kg\\n\\nExample session:\\n\\nQuestion: What is the mass of Earth times 2?\\nThought: I need to find the mass of Earth\\nAction: get_planet_mass: Earth\\nPAUSE \\n\\nYou will be called again with this:\\n\\nObservation: 5.972e24\\n\\nThought: I need to multiply this by 2\\nAction: calculate: 5.972e24 * 2\\nPAUSE\\n\\nYou will be called again with this: \\n\\nObservation: 1,1944×10e25\\n\\nIf you have the answer, output it as the Answer.\\n\\nAnswer: The mass of Earth times 2 is 1,1944×10e25.\\n\\nNow it's your turn:\"},\n",
              " {'role': 'user', 'content': 'What is the mass of Earth times 5?'},\n",
              " {'role': 'assistant',\n",
              "  'content': 'Thought: To find the mass of Earth times 5, I first need to find the mass of Earth. \\n\\nAction: get_planet_mass: Earth\\nPAUSE'},\n",
              " {'role': 'assistant', 'content': ''},\n",
              " {'role': 'user', 'content': 'Observation: 5.972e+24'},\n",
              " {'role': 'assistant',\n",
              "  'content': 'Thought: Now that I have the mass of Earth, I can multiply it by 5 to get the final result.\\n\\nAction: calculate: 5.972e24 * 5\\nPAUSE'},\n",
              " {'role': 'user', 'content': 'Observation: 1.6425e+24'},\n",
              " {'role': 'assistant',\n",
              "  'content': 'Thought: I have calculated the mass of Earth times 5, so I now have the answer.\\n\\nAnswer: The mass of Earth times 5 is 2.986e+25'}]"
            ]
          },
          "metadata": {},
          "execution_count": 19
        }
      ]
    },
    {
      "cell_type": "markdown",
      "source": [
        "**Crição de um loop para o Agent**\n",
        "\n",
        "Isso irá acabar com a necessidade de uma pessoa ficar chamando o agente toda vez que desejarmos que ele pense (assim como feito anteriormente), através de um loop ele será capaz de fazer isso por conta própria"
      ],
      "metadata": {
        "id": "JXhtMmCsvr1c"
      }
    },
    {
      "cell_type": "code",
      "source": [
        "import re #Importação da biblioteca \"Regular Expressions\", pois precisaremos analizar os conteudos de uma string\n",
        "\n",
        "def agent_loop(max_iterations=10, query: str = \"\"): #As iteração dirão o maximo de vezes que esse loop de pensamentos do Agent irá ocorrer\n",
        "  agent = Agent(client, system_prompt) #Inicialização do agente\n",
        "  tools = ['calculate', 'get_planet_mass'] #Inicializando o nome das ferramentas que temos\n",
        "  next_prompt = query\n",
        "  i = 0\n",
        "  while i < max_iterations: #Inicio do loop\n",
        "    i += 1\n",
        "    result = agent(next_prompt) #Chamaremos o Agent e verificaremos o resultado\n",
        "    print(result)\n",
        "\n",
        "    if \"PAUSE\" in result and \"Action\" in result: #Se o resultado tiver uma ação e pausa\n",
        "      action = re.findall(r\"Action: ([a-z_]+): (.+)\", result, re.IGNORECASE)\n",
        "      chosen_tool = action[0][0]\n",
        "      arg = action[0][1]\n",
        "\n",
        "      if chosen_tool in tools:\n",
        "        result_tool = eval(f\"{chosen_tool}('{arg}')\")\n",
        "        next_prompt = f\"Observation: {result_tool}\"\n",
        "\n",
        "      else:\n",
        "        next_prompt = \"Observation: Tool not found\"\n",
        "\n",
        "      print(next_prompt)\n",
        "      continue\n",
        "\n",
        "    if \"Answer\" in result: #A resposta foi encontrada e podemos sair do loop\n",
        "      break\n",
        "\n",
        "\n"
      ],
      "metadata": {
        "id": "j-Hk0s13v5zW"
      },
      "execution_count": 27,
      "outputs": []
    },
    {
      "cell_type": "code",
      "source": [
        "agent_loop(query=\"What is the mass of Earth plus the mass of Mercury and all of that times 5?\")"
      ],
      "metadata": {
        "colab": {
          "base_uri": "https://localhost:8080/"
        },
        "id": "NracxNPn1s1J",
        "outputId": "744ca23a-bc12-46a4-e185-7343210632fd"
      },
      "execution_count": 29,
      "outputs": [
        {
          "output_type": "stream",
          "name": "stdout",
          "text": [
            "Thought: I need to find the mass of Earth and the mass of Mercury, then add them together and multiply the result by 5. First, I'll find the mass of Earth.\n",
            "\n",
            "Action: get_planet_mass: Earth\n",
            "PAUSE\n",
            "Observation: 5.972e+24\n",
            "Thought: Now that I have the mass of Earth, I need to find the mass of Mercury.\n",
            "\n",
            "Action: get_planet_mass: Mercury\n",
            "PAUSE\n",
            "Observation: 3.285e+23\n",
            "Thought: I now have the masses of both Earth and Mercury. Next, I'll add them together.\n",
            "\n",
            "Action: calculate: 5.972e+24 + 3.285e+23\n",
            "PAUSE\n",
            "Observation: 6.300500000000001e+24\n",
            "Thought: Now that I have the sum of the masses of Earth and Mercury, I need to multiply this result by 5 to get the final answer.\n",
            "\n",
            "Action: calculate: 6.300500000000001e+24 * 5\n",
            "PAUSE\n",
            "Observation: 3.1502500000000004e+25\n",
            "Thought: I have now calculated the mass of Earth plus the mass of Mercury and multiplied the result by 5, so I have the final answer.\n",
            "\n",
            "Answer: The mass of Earth plus the mass of Mercury and all of that times 5 is 3.1502500000000004e+25.\n"
          ]
        }
      ]
    }
  ]
}
{
  "nbformat": 4,
  "nbformat_minor": 0,
  "metadata": {
    "colab": {
      "provenance": []
    },
    "kernelspec": {
      "name": "python3",
      "display_name": "Python 3"
    },
    "language_info": {
      "name": "python"
    }
  },
  "cells": [
    {
      "cell_type": "markdown",
      "source": [
        "# **Prática**"
      ],
      "metadata": {
        "id": "2z38rsXY2BGq"
      }
    },
    {
      "cell_type": "markdown",
      "source": [
        "Nesta prática meu objetivo era possibilitar ciar um usuário de um paciente que deseja fazer uma consulta, junto ao seu email, motivivo da consulta, data da consulta e o médico responsável pela consulta, fazendo as validações e serializações personalizadas necessárias."
      ],
      "metadata": {
        "id": "XRQjS8Pw2E30"
      }
    },
    {
      "cell_type": "code",
      "source": [
        "!pip install pydantic\n",
        "!pip install pydantic[email]\n",
        "!pip install FastAPI"
      ],
      "metadata": {
        "colab": {
          "base_uri": "https://localhost:8080/"
        },
        "id": "g01rNcVc3nJL",
        "outputId": "db6c9915-1140-48cd-c755-c384720f35a4"
      },
      "execution_count": null,
      "outputs": [
        {
          "output_type": "stream",
          "name": "stdout",
          "text": [
            "Requirement already satisfied: pydantic in /usr/local/lib/python3.11/dist-packages (2.10.6)\n",
            "Requirement already satisfied: annotated-types>=0.6.0 in /usr/local/lib/python3.11/dist-packages (from pydantic) (0.7.0)\n",
            "Requirement already satisfied: pydantic-core==2.27.2 in /usr/local/lib/python3.11/dist-packages (from pydantic) (2.27.2)\n",
            "Requirement already satisfied: typing-extensions>=4.12.2 in /usr/local/lib/python3.11/dist-packages (from pydantic) (4.12.2)\n",
            "Requirement already satisfied: pydantic[email] in /usr/local/lib/python3.11/dist-packages (2.10.6)\n",
            "Requirement already satisfied: annotated-types>=0.6.0 in /usr/local/lib/python3.11/dist-packages (from pydantic[email]) (0.7.0)\n",
            "Requirement already satisfied: pydantic-core==2.27.2 in /usr/local/lib/python3.11/dist-packages (from pydantic[email]) (2.27.2)\n",
            "Requirement already satisfied: typing-extensions>=4.12.2 in /usr/local/lib/python3.11/dist-packages (from pydantic[email]) (4.12.2)\n",
            "Requirement already satisfied: email-validator>=2.0.0 in /usr/local/lib/python3.11/dist-packages (from pydantic[email]) (2.2.0)\n",
            "Requirement already satisfied: dnspython>=2.0.0 in /usr/local/lib/python3.11/dist-packages (from email-validator>=2.0.0->pydantic[email]) (2.7.0)\n",
            "Requirement already satisfied: idna>=2.0.0 in /usr/local/lib/python3.11/dist-packages (from email-validator>=2.0.0->pydantic[email]) (3.10)\n",
            "Collecting FastAPI\n",
            "  Downloading fastapi-0.115.11-py3-none-any.whl.metadata (27 kB)\n",
            "Collecting starlette<0.47.0,>=0.40.0 (from FastAPI)\n",
            "  Downloading starlette-0.46.0-py3-none-any.whl.metadata (6.2 kB)\n",
            "Requirement already satisfied: pydantic!=1.8,!=1.8.1,!=2.0.0,!=2.0.1,!=2.1.0,<3.0.0,>=1.7.4 in /usr/local/lib/python3.11/dist-packages (from FastAPI) (2.10.6)\n",
            "Requirement already satisfied: typing-extensions>=4.8.0 in /usr/local/lib/python3.11/dist-packages (from FastAPI) (4.12.2)\n",
            "Requirement already satisfied: annotated-types>=0.6.0 in /usr/local/lib/python3.11/dist-packages (from pydantic!=1.8,!=1.8.1,!=2.0.0,!=2.0.1,!=2.1.0,<3.0.0,>=1.7.4->FastAPI) (0.7.0)\n",
            "Requirement already satisfied: pydantic-core==2.27.2 in /usr/local/lib/python3.11/dist-packages (from pydantic!=1.8,!=1.8.1,!=2.0.0,!=2.0.1,!=2.1.0,<3.0.0,>=1.7.4->FastAPI) (2.27.2)\n",
            "Requirement already satisfied: anyio<5,>=3.6.2 in /usr/local/lib/python3.11/dist-packages (from starlette<0.47.0,>=0.40.0->FastAPI) (3.7.1)\n",
            "Requirement already satisfied: idna>=2.8 in /usr/local/lib/python3.11/dist-packages (from anyio<5,>=3.6.2->starlette<0.47.0,>=0.40.0->FastAPI) (3.10)\n",
            "Requirement already satisfied: sniffio>=1.1 in /usr/local/lib/python3.11/dist-packages (from anyio<5,>=3.6.2->starlette<0.47.0,>=0.40.0->FastAPI) (1.3.1)\n",
            "Downloading fastapi-0.115.11-py3-none-any.whl (94 kB)\n",
            "\u001b[2K   \u001b[90m━━━━━━━━━━━━━━━━━━━━━━━━━━━━━━━━━━━━━━━━\u001b[0m \u001b[32m94.9/94.9 kB\u001b[0m \u001b[31m2.8 MB/s\u001b[0m eta \u001b[36m0:00:00\u001b[0m\n",
            "\u001b[?25hDownloading starlette-0.46.0-py3-none-any.whl (71 kB)\n",
            "\u001b[2K   \u001b[90m━━━━━━━━━━━━━━━━━━━━━━━━━━━━━━━━━━━━━━━━\u001b[0m \u001b[32m72.0/72.0 kB\u001b[0m \u001b[31m5.7 MB/s\u001b[0m eta \u001b[36m0:00:00\u001b[0m\n",
            "\u001b[?25hInstalling collected packages: starlette, FastAPI\n",
            "Successfully installed FastAPI-0.115.11 starlette-0.46.0\n"
          ]
        }
      ]
    },
    {
      "cell_type": "code",
      "source": [
        "from datetime import datetime\n",
        "from typing import Optional\n",
        "from uuid import uuid4\n",
        "\n",
        "from fastapi import FastAPI\n",
        "from fastapi.responses import JSONResponse\n",
        "from fastapi.testclient import TestClient\n",
        "from pydantic import BaseModel, EmailStr, Field, field_serializer, UUID4\n",
        "\n",
        "app = FastAPI()"
      ],
      "metadata": {
        "id": "4QFvj-0J2_H6"
      },
      "execution_count": null,
      "outputs": []
    },
    {
      "cell_type": "code",
      "source": [
        "class User(BaseModel):\n",
        "    model_config = {\n",
        "        \"extra\": \"forbid\", #Proibe que atributos extras sejam adicionados\n",
        "    }\n",
        "    __users__ = [] #O restanta continua muito parecido com os anteriores, porem agora aplicaremos isso a uma API\n",
        "\n",
        "    nome_paciente: str = Field(description=\"Nome do paciente\", examples=[\"exemplo\"])\n",
        "\n",
        "    email_paciente: EmailStr = Field(description=\"Email do paciente\", examples=[\"exemplo@aleatorio.com\"], frozen=True)\n",
        "\n",
        "    consulta_medico: str = Field(description=\"Nome do medico da consulta\")\n",
        "\n",
        "    motivo_contulta: str = Field(description=\"Motivo da consulta\")\n",
        "\n",
        "    consulta_data: Optional[datetime] = Field(default_factory=datetime.now, description=\"Data da consulta\", kw_only=True)\n",
        "\n",
        "    id: UUID4 = Field(default_factory=uuid4, description=\"Unique identifier\", kw_only=True)\n",
        "\n",
        "    @field_serializer(\"id\", when_used=\"json\") #Irá serializar o 'id' para json\n",
        "    def serialize_id(self, id: UUID4) -> str:\n",
        "        return str(id)"
      ],
      "metadata": {
        "id": "zEudU5Ny3Zl8"
      },
      "execution_count": null,
      "outputs": []
    },
    {
      "cell_type": "code",
      "source": [
        "@app.get(\"/users\", response_model=list[User]) #retorna a lista de usuarios\n",
        "async def get_users() -> list[User]:\n",
        "    return list(User.__users__)\n",
        "\n",
        "\n",
        "@app.post(\"/users\", response_model=User) #cria um novo usuário\n",
        "async def create_user(user: User):\n",
        "    User.__users__.append(user)\n",
        "    return user\n",
        "\n",
        "\n",
        "@app.get(\"/users/{user_id}\", response_model=User) #retorna um usuário por meio do seu 'id'\n",
        "async def get_user(user_id: UUID4) -> User | JSONResponse:\n",
        "    try:\n",
        "        return next((user for user in User.__users__ if user.id == user_id))\n",
        "    except StopIteration:\n",
        "        return JSONResponse(status_code=404, content={\"message\": \"User not found\"})"
      ],
      "metadata": {
        "id": "ovrteUWs5feT"
      },
      "execution_count": null,
      "outputs": []
    },
    {
      "cell_type": "code",
      "source": [
        "def main() -> None:\n",
        "    with TestClient(app) as client:\n",
        "        for i in range(5):\n",
        "            response = client.post(\n",
        "                \"/users\",\n",
        "                json={\"nome_paciente\": f\"exemplo {i}\",\n",
        "                      \"email_paciente\": f\"exemplo{i}@aleatorio.com\",\n",
        "                      \"consulta_medico\": f\"fulano\",\n",
        "                      \"motivo_contulta\": f\"dor de cabeça\",},)\n",
        "\n",
        "            assert response.status_code == 200\n",
        "\n",
        "            assert response.json()[\"nome_paciente\"] == f\"exemplo {i}\", ( #verifica o nome do paciente\n",
        "                \"The name of the user should be User {i}\"\n",
        "            )\n",
        "            assert response.json()[\"id\"], \"The user should have an id\" #verifica se o paciente tem um id\n",
        "\n",
        "            user = User.model_validate(response.json()) #converte de json para objeto 'user' para validação\n",
        "\n",
        "            assert str(user.id) == response.json()[\"id\"], \"The id should be the same\" #verifica se o id do paciente é o mesmo que está no json\n",
        "\n",
        "            assert user.consulta_data, \"The signup timestamp should be set\" #verifica se a data da consulta foi definida\n",
        "\n",
        "            assert user.consulta_medico == \"fulano\", \"The doctor for the consultation must be defined\" #verifica se o medico responsável pela consulta foi definida\n",
        "\n",
        "            assert user.motivo_contulta == \"dor de cabeça\", \"the reason for the consultation must be defined\" #verifica se o motivo da consulta foi definida\n",
        "\n",
        "        response = client.get(\"/users\") #obtem a lista de usuários criada anteriormente\n",
        "\n",
        "        assert response.status_code == 200, \"Response code should be 200\"\n",
        "\n",
        "        assert len(response.json()) == 5, \"There should be 5 users\" #verifica se foram criados somente 5 usuários\n",
        "\n",
        "        response = client.post(\n",
        "            \"/users\",\n",
        "           json={\"nome_paciente\": f\"exemplo 5\",\n",
        "           \"email_paciente\": f\"exemplo5@aleatorio.com\",\n",
        "           \"consulta_medico\": f\"fulano\",\n",
        "           \"motivo_contulta\": f\"dor de cabeça\",},)\n",
        "\n",
        "        assert response.status_code == 200\n",
        "\n",
        "        assert response.json()[\"nome_paciente\"] == \"exemplo 5\", (\n",
        "            \"The name of the user should be User 5\"\n",
        "        )\n",
        "        assert response.json()[\"id\"], \"The user should have an id\"\n",
        "\n",
        "        user = User.model_validate(response.json())\n",
        "\n",
        "        assert str(user.id) == response.json()[\"id\"], \"The id should be the same\"\n",
        "\n",
        "        assert user.consulta_data, \"The signup timestamp should be set\"\n",
        "\n",
        "        assert user.consulta_medico == \"fulano\", \"The doctor for the consultation must be defined\"\n",
        "\n",
        "        assert user.motivo_contulta == \"dor de cabeça\", \"the reason for the consultation must be defined\"\n",
        "\n",
        "        response = client.get(f\"/users/{response.json()['id']}\") #testa obter um paciente que foi registrado\n",
        "        assert response.status_code == 200\n",
        "        assert response.json()[\"nome_paciente\"] == \"exemplo 5\", (\n",
        "            \"This should be the newly created user\"\n",
        "        )\n",
        "\n",
        "        response = client.get(f\"/users/{uuid4()}\") #testa obter um paciente que não foi registrado\n",
        "        assert response.status_code == 404\n",
        "        assert response.json()[\"message\"] == \"User not found\", (\n",
        "            \"We technically should not find this user\"\n",
        "        )\n",
        "\n",
        "        response = client.post(\"/users\", json={\"nome_paciente\": \"User 6\", \"email_paciente\": \"wrong\"}) #testa a criação de um paciente com o email errado\n",
        "        assert response.status_code == 422, \"The email address is should be invalid\""
      ],
      "metadata": {
        "id": "uTzuDFhj3eQF"
      },
      "execution_count": null,
      "outputs": []
    },
    {
      "cell_type": "code",
      "source": [
        "if __name__ == \"__main__\":\n",
        "    main()"
      ],
      "metadata": {
        "id": "K8rDWPKy4xMG"
      },
      "execution_count": null,
      "outputs": []
    }
  ]
}
{
  "nbformat": 4,
  "nbformat_minor": 0,
  "metadata": {
    "colab": {
      "provenance": []
    },
    "kernelspec": {
      "name": "python3",
      "display_name": "Python 3"
    },
    "language_info": {
      "name": "python"
    }
  },
  "cells": [
    {
      "cell_type": "markdown",
      "source": [
        "# **Primeiro passo**"
      ],
      "metadata": {
        "id": "0-vsID7zH3fI"
      }
    },
    {
      "cell_type": "markdown",
      "source": [
        "Primeiramente iremos utilizar um código já contruido do pydantic apenas para entender o funcionamento básico do mesmo"
      ],
      "metadata": {
        "id": "sS1-YWd6sNLB"
      }
    },
    {
      "cell_type": "markdown",
      "source": [
        "Instalando depêndencias e importando bibliotecas necessárias"
      ],
      "metadata": {
        "id": "CBx2asnzBF4w"
      }
    },
    {
      "cell_type": "code",
      "execution_count": null,
      "metadata": {
        "colab": {
          "base_uri": "https://localhost:8080/"
        },
        "id": "oz6X-0uO_Cqs",
        "outputId": "a68c9b45-bbd5-4652-d8b2-8da9163275fb"
      },
      "outputs": [
        {
          "output_type": "stream",
          "name": "stdout",
          "text": [
            "Requirement already satisfied: pydantic in /usr/local/lib/python3.11/dist-packages (2.10.6)\n",
            "Requirement already satisfied: annotated-types>=0.6.0 in /usr/local/lib/python3.11/dist-packages (from pydantic) (0.7.0)\n",
            "Requirement already satisfied: pydantic-core==2.27.2 in /usr/local/lib/python3.11/dist-packages (from pydantic) (2.27.2)\n",
            "Requirement already satisfied: typing-extensions>=4.12.2 in /usr/local/lib/python3.11/dist-packages (from pydantic) (4.12.2)\n",
            "Requirement already satisfied: pydantic[email] in /usr/local/lib/python3.11/dist-packages (2.10.6)\n",
            "Requirement already satisfied: annotated-types>=0.6.0 in /usr/local/lib/python3.11/dist-packages (from pydantic[email]) (0.7.0)\n",
            "Requirement already satisfied: pydantic-core==2.27.2 in /usr/local/lib/python3.11/dist-packages (from pydantic[email]) (2.27.2)\n",
            "Requirement already satisfied: typing-extensions>=4.12.2 in /usr/local/lib/python3.11/dist-packages (from pydantic[email]) (4.12.2)\n",
            "Collecting email-validator>=2.0.0 (from pydantic[email])\n",
            "  Downloading email_validator-2.2.0-py3-none-any.whl.metadata (25 kB)\n",
            "Collecting dnspython>=2.0.0 (from email-validator>=2.0.0->pydantic[email])\n",
            "  Downloading dnspython-2.7.0-py3-none-any.whl.metadata (5.8 kB)\n",
            "Requirement already satisfied: idna>=2.0.0 in /usr/local/lib/python3.11/dist-packages (from email-validator>=2.0.0->pydantic[email]) (3.10)\n",
            "Downloading email_validator-2.2.0-py3-none-any.whl (33 kB)\n",
            "Downloading dnspython-2.7.0-py3-none-any.whl (313 kB)\n",
            "\u001b[2K   \u001b[90m━━━━━━━━━━━━━━━━━━━━━━━━━━━━━━━━━━━━━━━━\u001b[0m \u001b[32m313.6/313.6 kB\u001b[0m \u001b[31m8.7 MB/s\u001b[0m eta \u001b[36m0:00:00\u001b[0m\n",
            "\u001b[?25hInstalling collected packages: dnspython, email-validator\n",
            "Successfully installed dnspython-2.7.0 email-validator-2.2.0\n"
          ]
        }
      ],
      "source": [
        "!pip install pydantic\n",
        "!pip install pydantic[email]"
      ]
    },
    {
      "cell_type": "code",
      "source": [
        "from enum import auto, IntFlag\n",
        "from typing import Any\n",
        "from pydantic import (BaseModel, EmailStr, Field, SecretStr, ValidationError, )"
      ],
      "metadata": {
        "id": "NtzH3Q4TBVrs"
      },
      "execution_count": null,
      "outputs": []
    },
    {
      "cell_type": "markdown",
      "source": [
        "Agora criamos classes, no caso temos:\n",
        "\n",
        "*  'Role': que será as funções que o indíduo podera desenpenhar, (autor, editor, desenvolvedor e o admin que possue todas as anteriores).\n",
        "\n",
        "*   'User': utilizando o 'BaseModel', que em resumo permite implementar a os basicos da nossa validação, temos o nome, email, senha e 'Role' que ja foi mencionada.\n",
        "\n",
        "Um ponto que temos a detacar é função 'Fild' que pode ser usada para expessificar aquela variável, como: dar exemplos, dar descrições, 'Frozen = True' que seria uma ferramenta que impedisse a alteração, como por exemplo impedir que o email cadastrado seja alterado."
      ],
      "metadata": {
        "id": "r3p4-ZkjBlUs"
      }
    },
    {
      "cell_type": "code",
      "source": [
        "class Role(IntFlag):\n",
        "  Author = auto()\n",
        "  Editor = auto()\n",
        "  Developer = auto()\n",
        "  Admin = Author | Editor | Developer\n",
        "\n",
        "class User(BaseModel):\n",
        "    name: str = Field(examples=[\"Arjan\"]) #'str' garante que o campo seja um string, e como citado anteriormente temos um exemplo dentro de 'Fild'.\n",
        "    email: EmailStr = Field( #'Emailstr' faz um trabalho parecido com str, nesse caso garante que esse campo seja um email.\n",
        "        examples=[\"example@arjancodes.com\"], #exemplo.\n",
        "        description=\"The email address of the user\", #descrição.\n",
        "        frozen=True, #indica que esse campo não pode ser alterado posteriormente.\n",
        "    )\n",
        "    password: SecretStr = Field(#'Secretstr' garante que seja uma senha, além de mostrar ela assim: '*********'.\n",
        "        examples=[\"Password123\"], description=\"The password of the user\"\n",
        "    )\n",
        "    role: Role = Field(default=None, description=\"The role of the user\") #default indica que, a priori a sua possição/papel será 0, ou a mais básica possível"
      ],
      "metadata": {
        "id": "DYzEpO8uCNY2"
      },
      "execution_count": null,
      "outputs": []
    },
    {
      "cell_type": "markdown",
      "source": [
        "Temos um função que valida se os dados enseridos dentro da classe selecionada, estão de acordo com a estrutura."
      ],
      "metadata": {
        "id": "V14tF6hnHMdc"
      }
    },
    {
      "cell_type": "code",
      "source": [
        "def validate(data: dict[str, Any]) -> None:\n",
        "    try:\n",
        "        user = User.model_validate(data)\n",
        "        print(user) #Caso estiver certo iremos printar o usuário.\n",
        "    except ValidationError as e:\n",
        "        print(\"User is invalid\") #Caso não estiver certo, iremos printar que o usuário está errado e o erro cometido.\n",
        "        for error in e.errors():\n",
        "            print(error)"
      ],
      "metadata": {
        "id": "2h1N0XLTHiqz"
      },
      "execution_count": null,
      "outputs": []
    },
    {
      "cell_type": "markdown",
      "source": [
        "Agora criamos um função que servira como exemplo, possuindo 'good_data' e 'bad_data' para que a nossa validação possa trabalhar."
      ],
      "metadata": {
        "id": "H6xmVRweH-Wu"
      }
    },
    {
      "cell_type": "code",
      "source": [
        "def main() -> None:\n",
        "    good_data = {\n",
        "        \"name\": \"Arjan\",\n",
        "        \"email\": \"example@arjancodes.com\",\n",
        "        \"password\": \"Password123\",\n",
        "    }\n",
        "    bad_data = {\"email\": \"\", \"password\": \"\"}\n",
        "\n",
        "    validate(good_data) #exemplo de dados bons\n",
        "    validate(bad_data) #exemplos de dados ruin"
      ],
      "metadata": {
        "id": "SdLf7p8TINVh"
      },
      "execution_count": null,
      "outputs": []
    },
    {
      "cell_type": "markdown",
      "source": [
        "Uma visualização do que fizemos até agora, explicando e apontados os erros, além de gerar a biblioteca para esclarecer duvidas."
      ],
      "metadata": {
        "id": "A8ixpYTKIggN"
      }
    },
    {
      "cell_type": "code",
      "source": [
        "if __name__ == \"__main__\":\n",
        "  main()"
      ],
      "metadata": {
        "colab": {
          "base_uri": "https://localhost:8080/"
        },
        "id": "-vS17L2zIeED",
        "outputId": "3dcf7bc5-1e6c-4065-e02e-5fd32eab0131"
      },
      "execution_count": null,
      "outputs": [
        {
          "output_type": "stream",
          "name": "stdout",
          "text": [
            "name='Arjan' email='example@arjancodes.com' password=SecretStr('**********') role=None\n",
            "User is invalid\n",
            "{'type': 'missing', 'loc': ('name',), 'msg': 'Field required', 'input': {'email': '', 'password': ''}, 'url': 'https://errors.pydantic.dev/2.10/v/missing'}\n",
            "{'type': 'value_error', 'loc': ('email',), 'msg': 'value is not a valid email address: An email address must have an @-sign.', 'input': '', 'ctx': {'reason': 'An email address must have an @-sign.'}}\n"
          ]
        }
      ]
    },
    {
      "cell_type": "markdown",
      "source": [
        "# **Segundo Passo**"
      ],
      "metadata": {
        "id": "O14F-cyVJDV6"
      }
    },
    {
      "cell_type": "markdown",
      "source": [
        "Acabamos de criar uma validação, porém ela é uma básica que já foi feita pelo Pydantic, logo podemos explorar essa biblioteca para fazer o nosso próprio código de validação pesonalizada"
      ],
      "metadata": {
        "id": "KhP4J3WwJGuv"
      }
    },
    {
      "cell_type": "code",
      "source": [
        "import enum\n",
        "import hashlib\n",
        "import re\n",
        "from typing import Any\n",
        "from pydantic import (BaseModel, EmailStr, field_validator, model_validator, Field, SecretStr, ValidationError, )"
      ],
      "metadata": {
        "id": "ZTuUVD6BZKr0"
      },
      "execution_count": null,
      "outputs": []
    },
    {
      "cell_type": "markdown",
      "source": [
        "Usando o regex para implementar regras para validação da senha e nome de usuário"
      ],
      "metadata": {
        "id": "IK5JujqKZ29X"
      }
    },
    {
      "cell_type": "code",
      "source": [
        "VALID_PASSWORD_REGEX = re.compile(r\"^(?=.*[a-z])(?=.*[A-Z])(?=.*\\d).{8,}$\") #Indica que deve haver pelomenos 1 letra maiuscula, 1 minuscula, 1 número e 8 caracteres\n",
        "VALID_NAME_REGEX = re.compile(r\"^[a-zA-Z]{2,}$\") #Só aceita letras maiusculas e minusculas, e deve haver no mínimo 2 caracteres"
      ],
      "metadata": {
        "id": "e_o43lv9ZRSW"
      },
      "execution_count": null,
      "outputs": []
    },
    {
      "cell_type": "markdown",
      "source": [
        "Algumas alteração em relação a prática anterior:\n",
        "\n",
        "*   class role agora recebe numeros inteiros para relacionar às devidas funções\n",
        "\n",
        "*   Dentro do user, adicionamos agora o '@fild_validator', basicamento iremos fazer uma validação personalizada, no caso desse exemplo, utilizaremos o 'VALID_PASSWORD_REGEX' e 'VALID_NAME_REGEX' que criamos anteriormente, além de regras próprias para a role, isso indica que essas regras podem ser expressas antes ou depois, como o nome e senha foram feitos antes e a role foi definida durante o codigo.\n",
        "\n",
        "\n"
      ],
      "metadata": {
        "id": "VH-Xa8UuazL-"
      }
    },
    {
      "cell_type": "code",
      "source": [
        "class Role(enum.IntFlag):\n",
        "    Author = 1\n",
        "    Editor = 2\n",
        "    Admin = 4\n",
        "    SuperAdmin = 8"
      ],
      "metadata": {
        "id": "R11EUpaKeBXe"
      },
      "execution_count": null,
      "outputs": []
    },
    {
      "cell_type": "code",
      "source": [
        "class User(BaseModel):\n",
        "    name: str = Field(examples=[\"Arjan\"])\n",
        "    email: EmailStr = Field(\n",
        "        examples=[\"user@arjancodes.com\"],\n",
        "        description=\"The email address of the user\",\n",
        "        frozen=True,\n",
        "    )\n",
        "    password: SecretStr = Field(\n",
        "        examples=[\"Password123\"], description=\"The password of the user\"\n",
        "    )\n",
        "    role: Role = Field(\n",
        "        default=None, description=\"The role of the user\", examples=[1, 2, 4, 8]\n",
        "    )\n",
        "\n",
        "    @field_validator(\"name\")\n",
        "    @classmethod\n",
        "    def validate_name(cls, v: str) -> str:\n",
        "        if not VALID_NAME_REGEX.match(v):\n",
        "            raise ValueError(\n",
        "                \"Name is invalid, must contain only letters and be at least 2 characters long\"\n",
        "            )\n",
        "        return v\n",
        "\n",
        "    @field_validator(\"role\", mode=\"before\")\n",
        "    @classmethod\n",
        "    def validate_role(cls, v: int | str | Role) -> Role:\n",
        "        op = {int: lambda x: Role(x), str: lambda x: Role[x], Role: lambda x: x}\n",
        "        try:\n",
        "            return op[type(v)](v)\n",
        "        except (KeyError, ValueError):\n",
        "            raise ValueError(\n",
        "                f\"Role is invalid, please use one of the following: {', '.join([x.name for x in Role])}\"\n",
        "            )\n",
        "\n",
        "    @model_validator(mode=\"before\") #Podemos elevar essa validação, criando varios pré-requisitos, aqui garantiremos que haja nome e senha, que o nome não esteja insirido na senha e que a senha siga a regra que estabelecemos anteriormente\n",
        "    @classmethod\n",
        "    def validate_user(cls, v: dict[str, Any]) -> dict[str, Any]:\n",
        "        if \"name\" not in v or \"password\" not in v:\n",
        "            raise ValueError(\"Name and password are required\")\n",
        "        if v[\"name\"].casefold() in v[\"password\"].casefold():\n",
        "            raise ValueError(\"Password cannot contain name\")\n",
        "        if not VALID_PASSWORD_REGEX.match(v[\"password\"]):\n",
        "            raise ValueError(\n",
        "                \"Password is invalid, must contain 8 characters, 1 uppercase, 1 lowercase, 1 number\"\n",
        "            )\n",
        "        v[\"password\"] = hashlib.sha256(v[\"password\"].encode()).hexdigest()\n",
        "        return v"
      ],
      "metadata": {
        "id": "5c_Hfr_UZeIC"
      },
      "execution_count": null,
      "outputs": []
    },
    {
      "cell_type": "markdown",
      "source": [
        "Aqui estão exemplos de dados que devem ser seguidos como exemplos corretos e exemplos errados"
      ],
      "metadata": {
        "id": "xuBXKiqpdEMb"
      }
    },
    {
      "cell_type": "code",
      "source": [
        "def validate(data: dict[str, Any]) -> None:\n",
        "    try:\n",
        "        user = User.model_validate(data)\n",
        "        print(user)\n",
        "    except ValidationError as e:\n",
        "        print(\"User is invalid:\")\n",
        "        print(e)\n",
        "\n",
        "\n",
        "def main() -> None: #exemplos de dados que podem ser gerados\n",
        "    test_data = dict(\n",
        "        good_data={ #dados bons\n",
        "            \"name\": \"Arjan\",\n",
        "            \"email\": \"example@arjancodes.com\",\n",
        "            \"password\": \"Password123\",\n",
        "            \"role\": \"Admin\",\n",
        "        },\n",
        "        bad_role={ #ausencia de role\n",
        "            \"name\": \"Arjan\",\n",
        "            \"email\": \"example@arjancodes.com\",\n",
        "            \"password\": \"Password123\",\n",
        "            \"role\": \"Programmer\",\n",
        "        },\n",
        "        bad_data={ #dados ruins (email e senha)\n",
        "            \"name\": \"Arjan\",\n",
        "            \"email\": \"bad email\",\n",
        "            \"password\": \"bad password\",\n",
        "        },\n",
        "        bad_name={ #nome fora do padrão\n",
        "            \"name\": \"Arjan<-_->\",\n",
        "            \"email\": \"example@arjancodes.com\",\n",
        "            \"password\": \"Password123\",\n",
        "        },\n",
        "        duplicate={ #dados duplicados\n",
        "            \"name\": \"Arjan\",\n",
        "            \"email\": \"example@arjancodes.com\",\n",
        "            \"password\": \"Arjan123\",\n",
        "        },\n",
        "        missing_data={ #dados faltantes\n",
        "            \"email\": \"\",\n",
        "            \"password\": \"\",\n",
        "        },\n",
        "    )\n",
        "\n",
        "    for example_name, data in test_data.items():\n",
        "        print(example_name)\n",
        "        validate(data)\n",
        "        print()"
      ],
      "metadata": {
        "id": "EeeigbYjZhSw"
      },
      "execution_count": null,
      "outputs": []
    },
    {
      "cell_type": "markdown",
      "source": [
        "Por fim podemos ver a validação dos codigos que fizemos até agora, mostrando qual é o acerto e erro em cada exemplo: good_data, bad_role, duplicate, missing_data, bad_name e bad_data."
      ],
      "metadata": {
        "id": "kd26N9xYdbOS"
      }
    },
    {
      "cell_type": "code",
      "source": [
        "if __name__ == \"__main__\":\n",
        "    main()"
      ],
      "metadata": {
        "id": "AgBvA-qkZkOR",
        "colab": {
          "base_uri": "https://localhost:8080/"
        },
        "outputId": "3365df29-4ef2-460b-b894-1da04706ecfa"
      },
      "execution_count": null,
      "outputs": [
        {
          "output_type": "stream",
          "name": "stdout",
          "text": [
            "good_data\n",
            "name='Arjan' email='example@arjancodes.com' password=SecretStr('**********') role=<Role.Admin: 4>\n",
            "\n",
            "bad_role\n",
            "User is invalid:\n",
            "1 validation error for User\n",
            "role\n",
            "  Value error, Role is invalid, please use one of the following: Author, Editor, Admin, SuperAdmin [type=value_error, input_value='Programmer', input_type=str]\n",
            "    For further information visit https://errors.pydantic.dev/2.10/v/value_error\n",
            "\n",
            "bad_data\n",
            "User is invalid:\n",
            "1 validation error for User\n",
            "  Value error, Password is invalid, must contain 8 characters, 1 uppercase, 1 lowercase, 1 number [type=value_error, input_value={'name': 'Arjan', 'email'...ssword': 'bad password'}, input_type=dict]\n",
            "    For further information visit https://errors.pydantic.dev/2.10/v/value_error\n",
            "\n",
            "bad_name\n",
            "User is invalid:\n",
            "1 validation error for User\n",
            "name\n",
            "  Value error, Name is invalid, must contain only letters and be at least 2 characters long [type=value_error, input_value='Arjan<-_->', input_type=str]\n",
            "    For further information visit https://errors.pydantic.dev/2.10/v/value_error\n",
            "\n",
            "duplicate\n",
            "User is invalid:\n",
            "1 validation error for User\n",
            "  Value error, Password cannot contain name [type=value_error, input_value={'name': 'Arjan', 'email'... 'password': 'Arjan123'}, input_type=dict]\n",
            "    For further information visit https://errors.pydantic.dev/2.10/v/value_error\n",
            "\n",
            "missing_data\n",
            "User is invalid:\n",
            "1 validation error for User\n",
            "  Value error, Name and password are required [type=value_error, input_value={'email': '', 'password': ''}, input_type=dict]\n",
            "    For further information visit https://errors.pydantic.dev/2.10/v/value_error\n",
            "\n"
          ]
        }
      ]
    },
    {
      "cell_type": "markdown",
      "source": [
        "# **Terceiro Passo**"
      ],
      "metadata": {
        "id": "zPOVPjk-euBf"
      }
    },
    {
      "cell_type": "markdown",
      "source": [
        "Agora faremos a serialização personalizada, ou seja transformaremos um objetos em outra estrutura de dados, como por exemplo JSON, utilizaremos muito quando incluirmos a biblioteca FastAPI."
      ],
      "metadata": {
        "id": "ZIY5B5f1wCfs"
      }
    },
    {
      "cell_type": "code",
      "source": [
        "import enum\n",
        "import hashlib\n",
        "import re\n",
        "from typing import Any, Self\n",
        "from pydantic import (BaseModel,EmailStr,Field,field_serializer,field_validator,model_serializer,model_validator,SecretStr,)"
      ],
      "metadata": {
        "id": "woI73bPWewsE"
      },
      "execution_count": null,
      "outputs": []
    },
    {
      "cell_type": "code",
      "source": [
        "#define regras para a criação de senha e nome do ususário\n",
        "VALID_PASSWORD_REGEX = re.compile(r\"^(?=.*[a-z])(?=.*[A-Z])(?=.*\\d).{8,}$\") # a senha deve possuir no mínimo 8 caracteres, sendo pelo menos 1 letra maiúscula, 1 letra minúscula e 1 número.\n",
        "VALID_NAME_REGEX = re.compile(r\"^[a-zA-Z]{2,}$\")# o nome deve possuir no mínimo 2 caracteres, sendo maiusculas e também minusculas."
      ],
      "metadata": {
        "id": "fx7QXW0jvxvU"
      },
      "execution_count": null,
      "outputs": []
    },
    {
      "cell_type": "code",
      "source": [
        "class Role(enum.IntFlag): #Criação das roles agora com valores int\n",
        "    User = 0\n",
        "    Author = 1\n",
        "    Editor = 2\n",
        "    Admin = 4\n",
        "    SuperAdmin = 8\n",
        "\n",
        "\n",
        "class User(BaseModel):\n",
        "    name: str = Field(examples=[\"Example\"])\n",
        "    email: EmailStr = Field(\n",
        "        examples=[\"user@arjancodes.com\"],\n",
        "        description=\"The email address of the user\",\n",
        "        frozen=True,\n",
        "    )\n",
        "    password: SecretStr = Field(\n",
        "        examples=[\"Password123\"], description=\"The password of the user\", exclude=True #Quando fizermos a serialização desse objeto, essa senha não será incluida\n",
        "    )\n",
        "    role: Role = Field(\n",
        "        description=\"The role of the user\",\n",
        "        examples=[1, 2, 4, 8],# exemplo das roles com int\n",
        "        default=0, #Como estamos dando valor à role, agora o seu defult será 0 em vez de none\n",
        "        validate_default=True,\n",
        "    )\n",
        "\n",
        "    @field_validator(\"name\") #validaremos se o nome seque a regra criada anteiormente (VALID_NAME_REGEX)\n",
        "    def validate_name(cls, v: str) -> str:\n",
        "        if not VALID_NAME_REGEX.match(v):\n",
        "            raise ValueError(\n",
        "                \"Name is invalid, must contain only letters and be at least 2 characters long\"\n",
        "            )\n",
        "        return v\n",
        "\n",
        "    @field_validator(\"role\", mode=\"before\") #validaremos se o valor inserio na role está entre o int selecionados\n",
        "    @classmethod\n",
        "    def validate_role(cls, v: int | str | Role) -> Role:\n",
        "        op = {int: lambda x: Role(x), str: lambda x: Role[x], Role: lambda x: x}\n",
        "        try:\n",
        "            return op[type(v)](v)\n",
        "        except (KeyError, ValueError):\n",
        "            raise ValueError(\n",
        "                f\"Role is invalid, please use one of the following: {', '.join([x.name for x in Role])}\"\n",
        "            )\n",
        "\n",
        "    @model_validator(mode=\"before\") #validaremos se existe um nome e se a senha segue a regra criada anteriormente (VALID_PASSWORD_REGEX)\n",
        "    @classmethod\n",
        "    def validate_user_pre(cls, v: dict[str, Any]) -> dict[str, Any]:\n",
        "        if \"name\" not in v or \"password\" not in v:\n",
        "            raise ValueError(\"Name and password are required\")\n",
        "        if v[\"name\"].casefold() in v[\"password\"].casefold():\n",
        "            raise ValueError(\"Password cannot contain name\")\n",
        "        if not VALID_PASSWORD_REGEX.match(v[\"password\"]):\n",
        "            raise ValueError(\n",
        "                \"Password is invalid, must contain 8 characters, 1 uppercase, 1 lowercase, 1 number\"\n",
        "            )\n",
        "        v[\"password\"] = hashlib.sha256(v[\"password\"].encode()).hexdigest()\n",
        "        return v\n",
        "\n",
        "    @model_validator(mode=\"after\") #valida que só exista um admin\n",
        "    def validate_user_post(self, v: Any) -> Self:\n",
        "        if self.role == Role.Admin and self.name != \"Arjan\":\n",
        "            raise ValueError(\"Only Arjan can be an admin\")\n",
        "        return self\n",
        "\n",
        "    @field_serializer(\"role\", when_used=\"json\")#Aqui temos um exemplo, quando fizermos a serialização do objeto, garantimos que o nome da role seja retornado para que possamos incluir em dados no formato JSON\n",
        "    @classmethod\n",
        "    def serialize_role(cls, v) -> str:\n",
        "        return v.name\n",
        "\n",
        "    @model_serializer(mode=\"wrap\", when_used=\"json\") #serelização da função usuário para json\n",
        "    def serialize_user(self, serializer, info) -> dict[str, Any]:\n",
        "        if not info.include and not info.exclude:\n",
        "            return {\"name\": self.name, \"role\": self.role.name}\n",
        "        return serializer(self)"
      ],
      "metadata": {
        "id": "qdGUxf6yv21W"
      },
      "execution_count": null,
      "outputs": []
    },
    {
      "cell_type": "code",
      "source": [
        "def main() -> None:\n",
        "    data = {\n",
        "        \"name\": \"Arjan\",\n",
        "        \"email\": \"example@arjancodes.com\",\n",
        "        \"password\": \"Password123\",\n",
        "        \"role\": \"Admin\",\n",
        "    }\n",
        "    user = User.model_validate(data) #validação e criação do Usuário user\n",
        "    if user:\n",
        "        print(\n",
        "            \"The serializer that returns a dict:\", #serialização dos dados para um dicionário\n",
        "            user.model_dump(),\n",
        "            sep=\"\\n\",\n",
        "            end=\"\\n\\n\",\n",
        "        )\n",
        "        print(\n",
        "            \"The serializer that returns a JSON string:\", #serialização dos dados para um JSON\n",
        "            user.model_dump(mode=\"json\"),\n",
        "            sep=\"\\n\",\n",
        "            end=\"\\n\\n\",\n",
        "        )\n",
        "        print(\n",
        "            \"The serializer that returns a json string, excluding the role:\", #serialização dos dados para um JSON, excluindo a role\n",
        "            user.model_dump(exclude=[\"role\"], mode=\"json\"),\n",
        "            sep=\"\\n\",\n",
        "            end=\"\\n\\n\",\n",
        "        )\n",
        "        print(\"The serializer that encodes all values to a dict:\", dict(user), sep=\"\\n\") #serialização dos dados para um dicionário junto com a role"
      ],
      "metadata": {
        "id": "_7-SLHrtv5Pw"
      },
      "execution_count": null,
      "outputs": []
    },
    {
      "cell_type": "code",
      "source": [
        "if __name__ == \"__main__\": #executando-a já podemos ver como a serialização ficará\n",
        "    main()"
      ],
      "metadata": {
        "colab": {
          "base_uri": "https://localhost:8080/"
        },
        "id": "lKmfBdqiv7Tb",
        "outputId": "420838b3-a485-485d-eb7a-5c9e03033cee"
      },
      "execution_count": null,
      "outputs": [
        {
          "output_type": "stream",
          "name": "stdout",
          "text": [
            "The serializer that returns a dict:\n",
            "{'name': 'Arjan', 'email': 'example@arjancodes.com', 'role': <Role.Admin: 4>}\n",
            "\n",
            "The serializer that returns a JSON string:\n",
            "{'name': 'Arjan', 'role': 'Admin'}\n",
            "\n",
            "The serializer that returns a json string, excluding the role:\n",
            "{'name': 'Arjan', 'email': 'example@arjancodes.com'}\n",
            "\n",
            "The serializer that encodes all values to a dict:\n",
            "{'name': 'Arjan', 'email': 'example@arjancodes.com', 'password': SecretStr('**********'), 'role': <Role.Admin: 4>}\n"
          ]
        }
      ]
    },
    {
      "cell_type": "markdown",
      "source": [
        "# **Quarto Passo**"
      ],
      "metadata": {
        "id": "2z38rsXY2BGq"
      }
    },
    {
      "cell_type": "markdown",
      "source": [
        "Utilização da FastAPI, a sua integração junto ao Pydantic, permitindo o trabalho com API's"
      ],
      "metadata": {
        "id": "XRQjS8Pw2E30"
      }
    },
    {
      "cell_type": "code",
      "source": [
        "%pip install FastAPI"
      ],
      "metadata": {
        "colab": {
          "base_uri": "https://localhost:8080/"
        },
        "id": "g01rNcVc3nJL",
        "outputId": "1576c69b-19b3-4de9-b85e-e46e07d019ed"
      },
      "execution_count": null,
      "outputs": [
        {
          "output_type": "stream",
          "name": "stdout",
          "text": [
            "Collecting FastAPI\n",
            "  Downloading fastapi-0.115.11-py3-none-any.whl.metadata (27 kB)\n",
            "Collecting starlette<0.47.0,>=0.40.0 (from FastAPI)\n",
            "  Downloading starlette-0.46.0-py3-none-any.whl.metadata (6.2 kB)\n",
            "Requirement already satisfied: pydantic!=1.8,!=1.8.1,!=2.0.0,!=2.0.1,!=2.1.0,<3.0.0,>=1.7.4 in /usr/local/lib/python3.11/dist-packages (from FastAPI) (2.10.6)\n",
            "Requirement already satisfied: typing-extensions>=4.8.0 in /usr/local/lib/python3.11/dist-packages (from FastAPI) (4.12.2)\n",
            "Requirement already satisfied: annotated-types>=0.6.0 in /usr/local/lib/python3.11/dist-packages (from pydantic!=1.8,!=1.8.1,!=2.0.0,!=2.0.1,!=2.1.0,<3.0.0,>=1.7.4->FastAPI) (0.7.0)\n",
            "Requirement already satisfied: pydantic-core==2.27.2 in /usr/local/lib/python3.11/dist-packages (from pydantic!=1.8,!=1.8.1,!=2.0.0,!=2.0.1,!=2.1.0,<3.0.0,>=1.7.4->FastAPI) (2.27.2)\n",
            "Requirement already satisfied: anyio<5,>=3.6.2 in /usr/local/lib/python3.11/dist-packages (from starlette<0.47.0,>=0.40.0->FastAPI) (3.7.1)\n",
            "Requirement already satisfied: idna>=2.8 in /usr/local/lib/python3.11/dist-packages (from anyio<5,>=3.6.2->starlette<0.47.0,>=0.40.0->FastAPI) (3.10)\n",
            "Requirement already satisfied: sniffio>=1.1 in /usr/local/lib/python3.11/dist-packages (from anyio<5,>=3.6.2->starlette<0.47.0,>=0.40.0->FastAPI) (1.3.1)\n",
            "Downloading fastapi-0.115.11-py3-none-any.whl (94 kB)\n",
            "\u001b[2K   \u001b[90m━━━━━━━━━━━━━━━━━━━━━━━━━━━━━━━━━━━━━━━━\u001b[0m \u001b[32m94.9/94.9 kB\u001b[0m \u001b[31m4.0 MB/s\u001b[0m eta \u001b[36m0:00:00\u001b[0m\n",
            "\u001b[?25hDownloading starlette-0.46.0-py3-none-any.whl (71 kB)\n",
            "\u001b[2K   \u001b[90m━━━━━━━━━━━━━━━━━━━━━━━━━━━━━━━━━━━━━━━━\u001b[0m \u001b[32m72.0/72.0 kB\u001b[0m \u001b[31m7.6 MB/s\u001b[0m eta \u001b[36m0:00:00\u001b[0m\n",
            "\u001b[?25hInstalling collected packages: starlette, FastAPI\n",
            "Successfully installed FastAPI-0.115.11 starlette-0.46.0\n"
          ]
        }
      ]
    },
    {
      "cell_type": "code",
      "source": [
        "from datetime import datetime\n",
        "from typing import Optional\n",
        "from uuid import uuid4\n",
        "\n",
        "from fastapi import FastAPI\n",
        "from fastapi.responses import JSONResponse\n",
        "from fastapi.testclient import TestClient\n",
        "from pydantic import BaseModel, EmailStr, Field, field_serializer, UUID4\n",
        "\n",
        "app = FastAPI()"
      ],
      "metadata": {
        "id": "4QFvj-0J2_H6"
      },
      "execution_count": null,
      "outputs": []
    },
    {
      "cell_type": "code",
      "source": [
        "class User(BaseModel):\n",
        "    model_config = {\n",
        "        \"extra\": \"forbid\", #Proibe que atributos extras sejam adicionados\n",
        "    }\n",
        "    __users__ = [] #O restanta continua muito parecido com os anteriores, porem agora aplicaremos isso a uma API\n",
        "    name: str = Field(..., description=\"Name of the user\") #Além disso adicionamos mais variáveis como: friends, blocked, signup_ts e id\n",
        "    email: EmailStr = Field(..., description=\"Email address of the user\")\n",
        "    friends: list[UUID4] = Field(\n",
        "        default_factory=list, max_items=500, description=\"List of friends\"\n",
        "    )\n",
        "    blocked: list[UUID4] = Field(\n",
        "        default_factory=list, max_items=500, description=\"List of blocked users\"\n",
        "    )\n",
        "    signup_ts: Optional[datetime] = Field(\n",
        "        default_factory=datetime.now, description=\"Signup timestamp\", kw_only=True\n",
        "    )\n",
        "    id: UUID4 = Field(\n",
        "        default_factory=uuid4, description=\"Unique identifier\", kw_only=True\n",
        "    )\n",
        "\n",
        "    @field_serializer(\"id\", when_used=\"json\")#Irá serializar o 'id' para json\n",
        "    def serialize_id(self, id: UUID4) -> str:\n",
        "        return str(id)"
      ],
      "metadata": {
        "id": "zEudU5Ny3Zl8"
      },
      "execution_count": null,
      "outputs": []
    },
    {
      "cell_type": "markdown",
      "source": [
        "Aqui irei colocar em prática a biblioteca FastAPI."
      ],
      "metadata": {
        "id": "zJ23H1zVwa9-"
      }
    },
    {
      "cell_type": "code",
      "source": [
        "@app.get(\"/users\", response_model=list[User]) #endpoint responsável por retornar a lista de usuarios criados\n",
        "async def get_users() -> list[User]:\n",
        "    return list(User.__users__)\n",
        "\n",
        "\n",
        "@app.post(\"/users\", response_model=User)  #endpoint responsável por criar um novo usuário\n",
        "async def create_user(user: User):\n",
        "    User.__users__.append(user)\n",
        "    return user\n",
        "\n",
        "\n",
        "@app.get(\"/users/{user_id}\", response_model=User) #endpoint responsável por retornar um usuário específico, por meio do seu id\n",
        "async def get_user(user_id: UUID4) -> User | JSONResponse:\n",
        "    try:\n",
        "        return next((user for user in User.__users__ if user.id == user_id))\n",
        "    except StopIteration:\n",
        "        return JSONResponse(status_code=404, content={\"message\": \"User not found\"}) #caso não exista ira printar um erro"
      ],
      "metadata": {
        "id": "ovrteUWs5feT"
      },
      "execution_count": null,
      "outputs": []
    },
    {
      "cell_type": "markdown",
      "source": [
        "Agora iremos fazer a verificação dos dados, criando exemplos para serem verificados, gerando mensagens que expliquem os erros caso existam."
      ],
      "metadata": {
        "id": "JrBffW8hweVl"
      }
    },
    {
      "cell_type": "code",
      "source": [
        "def main() -> None:\n",
        "    with TestClient(app) as client:\n",
        "        for i in range(5): #crição de 5 usuários\n",
        "            response = client.post(\n",
        "                \"/users\",\n",
        "                json={\"name\": f\"User {i}\", \"email\": f\"example{i}@arjancodes.com\"},\n",
        "            )\n",
        "            assert response.status_code == 200\n",
        "            assert response.json()[\"name\"] == f\"User {i}\", (#verifica o nome do paciente\n",
        "                \"The name of the user should be User {i}\"\n",
        "            )\n",
        "            assert response.json()[\"id\"], \"The user should have an id\" #verifica se o paciente tem um id\n",
        "\n",
        "            user = User.model_validate(response.json()) #converte de json para objeto 'user' para validação\n",
        "            assert str(user.id) == response.json()[\"id\"], \"The id should be the same\" #verifica se o id do paciente é o mesmo que está no json\n",
        "            assert user.signup_ts, \"The signup timestamp should be set\" #verifica se a data da consulta foi definida\n",
        "            assert user.friends == [], \"The friends list should be empty\" #verifica se a lista de amigos está vazia\n",
        "            assert user.blocked == [], \"The blocked list should be empty\" #verifica se a lista de bloqueados está vazia\n",
        "\n",
        "        response = client.get(\"/users\")  #obtem a lista de usuários criada anteriormente\n",
        "        assert response.status_code == 200, \"Response code should be 200\"\n",
        "        assert len(response.json()) == 5, \"There should be 5 users\" #verifica se foram criados 5 usuários\n",
        "\n",
        "        response = client.post( #outra verificação, agora com somente 1 usuário, porém os passos são identicos\n",
        "            \"/users\", json={\"name\": \"User 5\", \"email\": \"example5@arjancodes.com\"}\n",
        "        )\n",
        "        assert response.status_code == 200\n",
        "        assert response.json()[\"name\"] == \"User 5\", (\n",
        "            \"The name of the user should be User 5\"\n",
        "        )\n",
        "        assert response.json()[\"id\"], \"The user should have an id\"\n",
        "\n",
        "        user = User.model_validate(response.json())\n",
        "        assert str(user.id) == response.json()[\"id\"], \"The id should be the same\"\n",
        "        assert user.signup_ts, \"The signup timestamp should be set\"\n",
        "        assert user.friends == [], \"The friends list should be empty\"\n",
        "        assert user.blocked == [], \"The blocked list should be empty\"\n",
        "\n",
        "        response = client.get(f\"/users/{response.json()['id']}\") #verifica a crição de um usuário, no caso o ultimo criado\n",
        "        assert response.status_code == 200\n",
        "        assert response.json()[\"name\"] == \"User 5\", (\n",
        "            \"This should be the newly created user\"\n",
        "        )\n",
        "\n",
        "        response = client.get(f\"/users/{uuid4()}\") #verifica a criação de um usuário que no caso não existe\n",
        "        assert response.status_code == 404\n",
        "        assert response.json()[\"message\"] == \"User not found\", (\n",
        "            \"We technically should not find this user\"\n",
        "        )\n",
        "\n",
        "        response = client.post(\"/users\", json={\"name\": \"User 6\", \"email\": \"wrong\"}) #verificação do email\n",
        "        assert response.status_code == 422, \"The email address is should be invalid\""
      ],
      "metadata": {
        "id": "uTzuDFhj3eQF"
      },
      "execution_count": null,
      "outputs": []
    },
    {
      "cell_type": "code",
      "source": [
        "if __name__ == \"__main__\":\n",
        "    main()"
      ],
      "metadata": {
        "id": "K8rDWPKy4xMG"
      },
      "execution_count": null,
      "outputs": []
    }
  ]
}